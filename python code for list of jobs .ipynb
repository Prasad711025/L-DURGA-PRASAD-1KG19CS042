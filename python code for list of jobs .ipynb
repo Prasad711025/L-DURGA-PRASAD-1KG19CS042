{
 "cells": [
  {
   "cell_type": "code",
   "execution_count": 2,
   "id": "6c425681",
   "metadata": {},
   "outputs": [
    {
     "name": "stdout",
     "output_type": "stream",
     "text": [
      "Enter the number of jobs:3\n",
      "Enter the start time,end time,and earnings\n",
      "0900\n",
      "1030\n",
      "100\n",
      "1000\n",
      "1200\n",
      "500\n",
      "1100\n",
      "1200\n",
      "300\n",
      "[2, 400]\n"
     ]
    }
   ],
   "source": [
    "#The below code implements a Greedy algorithm to solve job scheduling problem\n",
    "def job_scheduling(jobs):\n",
    "    #sort the jobs by their end time in ascending order\n",
    "    jobs.sort(key=lambda x:x[1])\n",
    "    n=len(jobs)\n",
    "    #A list to store the selected jobs\n",
    "    current_time=0\n",
    "    total_earnings=0\n",
    "    selected_jobs=[]\n",
    "    #loop through the jobs and select the job with maximum profit\n",
    "    #if it doesn't overlap with the previously selected job\n",
    "    for i in range(n):\n",
    "        if current_time<=jobs[i][0]:\n",
    "            current_time=jobs[i][1]\n",
    "            total_earnings+=jobs[i][2]\n",
    "            selected_jobs.append(jobs[i])\n",
    "    #return the results\n",
    "    return[n-len(selected_jobs)+1,total_earnings]\n",
    "n=int(input(\"Enter the number of jobs:\").strip())\n",
    "jobs=[]\n",
    "print(\"Enter the start time,end time,and earnings\")\n",
    "for i in range(n):\n",
    "    start_time=int(input().strip())\n",
    "    end_time=int(input().strip())\n",
    "    earnings=int(input().strip())\n",
    "    jobs.append([start_time,end_time,earnings])\n",
    "\n",
    "print(job_scheduling(jobs))"
   ]
  },
  {
   "cell_type": "code",
   "execution_count": null,
   "id": "bef0020f",
   "metadata": {},
   "outputs": [],
   "source": []
  }
 ],
 "metadata": {
  "kernelspec": {
   "display_name": "Python 3 (ipykernel)",
   "language": "python",
   "name": "python3"
  },
  "language_info": {
   "codemirror_mode": {
    "name": "ipython",
    "version": 3
   },
   "file_extension": ".py",
   "mimetype": "text/x-python",
   "name": "python",
   "nbconvert_exporter": "python",
   "pygments_lexer": "ipython3",
   "version": "3.10.0"
  }
 },
 "nbformat": 4,
 "nbformat_minor": 5
}
